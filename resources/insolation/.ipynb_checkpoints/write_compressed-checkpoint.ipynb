{
 "cells": [
  {
   "cell_type": "code",
   "execution_count": 18,
   "id": "30d624fb-6876-4143-aed0-65b8f98a90d4",
   "metadata": {
    "execution": {
     "iopub.execute_input": "2025-01-29T14:04:53.466993Z",
     "iopub.status.busy": "2025-01-29T14:04:53.465534Z",
     "iopub.status.idle": "2025-01-29T14:04:53.820209Z",
     "shell.execute_reply": "2025-01-29T14:04:53.819417Z",
     "shell.execute_reply.started": "2025-01-29T14:04:53.466898Z"
    }
   },
   "outputs": [],
   "source": [
    "import numpy as np\n",
    "import io\n",
    "\n",
    "astrofiles_path = \"./astrofiles/\"\n",
    "\n",
    "path_Laskar2004 = astrofiles_path + \"Laskar2004/\"\n",
    "\n",
    "#Laskar 2004, past 51 ma (double precision)\n",
    "path_Laskar2004_51 = path_Laskar2004 + \"INSOLN.LA2004.BTL.ASC\"\n",
    "\n",
    "#Laskar 2004, next 21 ma (double precision)\n",
    "path_Laskar2004_21 = path_Laskar2004 + \"INSOLP.LA2004.BTL.ASC\"\n",
    "            \n",
    "#Laskar 2004, past 101 ma (single precision)\n",
    "path_Laskar2004_101 = path_Laskar2004 + \"INSOLN.LA2004.BTL.100.ASC\"\n",
    "\n",
    "with open(path_Laskar2004_51,\"r\") as text_file:\n",
    "    a51 = np.loadtxt(io.StringIO(text_file.read().replace('D', 'E')))\n",
    "with open(path_Laskar2004_21,\"r\") as text_file:\n",
    "    a21 = np.loadtxt(io.StringIO(text_file.read().replace('D', 'E')))\n",
    "with open(path_Laskar2004_101,\"r\") as text_file:\n",
    "    a101 = np.loadtxt(text_file)\n",
    "\n",
    "#Laskar 2004, compilation, from -101000 to +21000\n",
    "a = np.concatenate([a51, a21[1:,:], a101[51001:,:]])\n",
    "\n",
    "np.savez_compressed(\"Laskar2004.npz\", a)"
   ]
  },
  {
   "cell_type": "code",
   "execution_count": 17,
   "id": "c2001752-7535-401f-a8ab-db005bae8667",
   "metadata": {
    "execution": {
     "iopub.execute_input": "2025-01-29T14:04:51.657264Z",
     "iopub.status.busy": "2025-01-29T14:04:51.654301Z",
     "iopub.status.idle": "2025-01-29T14:04:51.974140Z",
     "shell.execute_reply": "2025-01-29T14:04:51.973316Z",
     "shell.execute_reply.started": "2025-01-29T14:04:51.657117Z"
    }
   },
   "outputs": [],
   "source": [
    "import numpy as np\n",
    "import io\n",
    "\n",
    "astrofiles_path = \"./astrofiles/\"\n",
    "\n",
    "path_Laskar2010 = astrofiles_path + \"Laskar2010/\"\n",
    "\n",
    "path_Laskar2010a = path_Laskar2010 + \"La2010a_ecc3L.dat\"\n",
    "\n",
    "with open(path_Laskar2010a,\"r\") as text_file:\n",
    "    a = np.loadtxt(text_file)\n",
    "\n",
    "np.savez_compressed(\"La2010a_ecc3L.npz\", a)"
   ]
  },
  {
   "cell_type": "code",
   "execution_count": null,
   "id": "9272f1f1-d122-4584-9b78-c0aaf15edbe7",
   "metadata": {},
   "outputs": [],
   "source": []
  }
 ],
 "metadata": {
  "kernelspec": {
   "display_name": "Python 3 (ipykernel)",
   "language": "python",
   "name": "python3"
  },
  "language_info": {
   "codemirror_mode": {
    "name": "ipython",
    "version": 3
   },
   "file_extension": ".py",
   "mimetype": "text/x-python",
   "name": "python",
   "nbconvert_exporter": "python",
   "pygments_lexer": "ipython3",
   "version": "3.10.13"
  }
 },
 "nbformat": 4,
 "nbformat_minor": 5
}
