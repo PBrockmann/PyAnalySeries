{
 "cells": [
  {
   "cell_type": "code",
   "execution_count": 1,
   "id": "cfbf4862-ebfb-4d4f-94bc-5241e72573cb",
   "metadata": {
    "execution": {
     "iopub.execute_input": "2025-01-29T20:50:35.019290Z",
     "iopub.status.busy": "2025-01-29T20:50:35.019062Z",
     "iopub.status.idle": "2025-01-29T20:50:35.611067Z",
     "shell.execute_reply": "2025-01-29T20:50:35.610346Z",
     "shell.execute_reply.started": "2025-01-29T20:50:35.019265Z"
    }
   },
   "outputs": [],
   "source": [
    "import inso\n",
    "import astro\n",
    "import numpy as np\n",
    "\n",
    "import ipywidgets as widgets\n",
    "from ipywidgets import interact\n",
    "\n",
    "import matplotlib.pyplot as plt"
   ]
  },
  {
   "cell_type": "code",
   "execution_count": 2,
   "id": "d998320b-3da7-4d57-87d3-77f63b31dfe7",
   "metadata": {
    "execution": {
     "iopub.execute_input": "2025-01-29T20:50:36.221447Z",
     "iopub.status.busy": "2025-01-29T20:50:36.219165Z",
     "iopub.status.idle": "2025-01-29T20:50:36.245246Z",
     "shell.execute_reply": "2025-01-29T20:50:36.243289Z",
     "shell.execute_reply.started": "2025-01-29T20:50:36.221335Z"
    }
   },
   "outputs": [],
   "source": [
    "def calculate(astronomical_solution, solar_constant, latitude, trueLongitude, t_start, t_end, t_step):\n",
    "    print(\"\\n\"\n",
    "          f\"Daily insolation with:\\n\"\n",
    "          f\"  - Astronomical solution: {astronomical_solution}\\n\"\n",
    "          f\"  - Solar constant: {solar_constant}\\n\"\n",
    "          f\"  - Latitude: {latitude}\\n\"\n",
    "          f\"  - True longitude (°): {trueLongitude}\\n\"\n",
    "          f\"  - Time excursion: {t_start} to {t_end} with a step of {t_step}\")\n",
    "\n",
    "    t=np.arange(t_start, t_end+1, t_step)\n",
    "\n",
    "    astro_params = eval(f\"astro.Astro{astronomical_solution}()\")\n",
    "    \n",
    "    deg_to_rad = np.pi/180.\n",
    "    \n",
    "    ecc = astro_params.eccentricity(t)\n",
    "    pre = astro_params.precession_angle(t)\n",
    "    obl = astro_params.obliquity(t)\n",
    "\n",
    "    inso_daily = np.empty(len(t))\n",
    "    for i in range(len(t)):\n",
    "        inso_daily[i] = solar_constant * inso.inso_daily_radians(inso.trueLongitude(trueLongitude*deg_to_rad, ecc[i], pre[i]), \n",
    "                                                           latitude*deg_to_rad, \n",
    "                                                           obl[i], \n",
    "                                                           ecc[i], \n",
    "                                                           pre[i])\n",
    "    fig, ax = plt.subplots(1, 1, figsize=(10,4))\n",
    "    ax.grid(visible=True, which='major', color='lightgray', linestyle='dashed', linewidth=0.5)\n",
    "    ax.plot(-t, inso_daily, linewidth=0.8)\n",
    "    plt.show() "
   ]
  },
  {
   "cell_type": "code",
   "execution_count": 4,
   "id": "40ae3b56-a30c-4881-84f3-f82f80c0bc42",
   "metadata": {
    "execution": {
     "iopub.execute_input": "2025-01-29T20:52:42.230950Z",
     "iopub.status.busy": "2025-01-29T20:52:42.230140Z",
     "iopub.status.idle": "2025-01-29T20:52:42.604802Z",
     "shell.execute_reply": "2025-01-29T20:52:42.604010Z",
     "shell.execute_reply.started": "2025-01-29T20:52:42.230890Z"
    }
   },
   "outputs": [
    {
     "data": {
      "application/vnd.jupyter.widget-view+json": {
       "model_id": "90a38e1a06094bea8d287f3312aaa37d",
       "version_major": 2,
       "version_minor": 0
      },
      "text/plain": [
       "interactive(children=(Dropdown(description='Astronomical solution:', index=1, layout=Layout(width='400px'), op…"
      ]
     },
     "metadata": {},
     "output_type": "display_data"
    }
   ],
   "source": [
    "import ipywidgets as widgets\n",
    "from IPython.display import display\n",
    "\n",
    "astronomical_solution_widget = widgets.Dropdown(\n",
    "    options = ['Berger1978', 'Laskar2004', 'Laskar2010a'],\n",
    "    value = 'Laskar2004',\n",
    "    description = 'Astronomical solution:',\n",
    "    layout = widgets.Layout(width='400px'),\n",
    "    style = {'description_width': '150px'},\n",
    "    continuous_update = False\n",
    ")\n",
    "\n",
    "solar_constant_widget = widgets.FloatText(\n",
    "    value = 1365,\n",
    "    min = 1000,\n",
    "    max = 1500,\n",
    "    step = 5,\n",
    "    description = 'Solar constant (W/m2):',\n",
    "    layout = widgets.Layout(width='400px'),\n",
    "    style = {'description_width': '150px'},\n",
    "    continuous_update = False\n",
    ")\n",
    "\n",
    "latitude_widget = widgets.FloatText(\n",
    "    value = 0,\n",
    "    min = -90,\n",
    "    max = 90,\n",
    "    step = 1,\n",
    "    description = 'Latitude (°):',\n",
    "    layout = widgets.Layout(width='400px'),\n",
    "    style = {'description_width': '150px'},\n",
    "    continuous_update = False\n",
    ")\n",
    "\n",
    "trueLongitude_widget = widgets.FloatText(\n",
    "    value = 0,\n",
    "    min = 0,\n",
    "    max = 360,\n",
    "    step = 1,\n",
    "    description = 'True longitude (°):',\n",
    "    layout = widgets.Layout(width='400px'),\n",
    "    style = {'description_width': '150px'},\n",
    "    continuous_update = False\n",
    ")\n",
    "\n",
    "time_start_widget = widgets.IntText(\n",
    "    value = -1000,\n",
    "    step = 100,\n",
    "    description = 'Start (t):',\n",
    "    layout = widgets.Layout(width='400px'),\n",
    "    style = {'description_width': '150px'},\n",
    "    continuous_update = False\n",
    ")\n",
    "\n",
    "time_end_widget = widgets.IntText(\n",
    "    value = 0,\n",
    "    step = 100,\n",
    "    description = 'End (t):',\n",
    "    layout = widgets.Layout(width='400px'),\n",
    "    style = {'description_width': '150px'},\n",
    "    continuous_update = False\n",
    ")\n",
    "\n",
    "time_step_widget = widgets.IntText(\n",
    "    value = 1,\n",
    "    description = 'Step (t):',\n",
    "    layout = widgets.Layout(width='400px'),\n",
    "    style = {'description_width': '150px'},\n",
    "    continuous_update = False\n",
    ")\n",
    "\n",
    "interact(calculate,\n",
    "         astronomical_solution = astronomical_solution_widget,\n",
    "         solar_constant = solar_constant_widget,\n",
    "         latitude = latitude_widget,\n",
    "         trueLongitude = trueLongitude_widget,\n",
    "         t_start = time_start_widget,\n",
    "         t_end = time_end_widget,\n",
    "         t_step = time_step_widget\n",
    ");"
   ]
  },
  {
   "cell_type": "code",
   "execution_count": null,
   "id": "b1aeec65-95f0-4e1d-945b-5f0c49d226df",
   "metadata": {},
   "outputs": [],
   "source": []
  },
  {
   "cell_type": "code",
   "execution_count": null,
   "id": "89a8df56-e08b-485f-a293-6fe82dd009ef",
   "metadata": {},
   "outputs": [],
   "source": []
  }
 ],
 "metadata": {
  "kernelspec": {
   "display_name": "Python 3 (ipykernel)",
   "language": "python",
   "name": "python3"
  },
  "language_info": {
   "codemirror_mode": {
    "name": "ipython",
    "version": 3
   },
   "file_extension": ".py",
   "mimetype": "text/x-python",
   "name": "python",
   "nbconvert_exporter": "python",
   "pygments_lexer": "ipython3",
   "version": "3.10.13"
  }
 },
 "nbformat": 4,
 "nbformat_minor": 5
}
